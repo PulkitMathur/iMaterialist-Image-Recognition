{
 "cells": [
  {
   "cell_type": "code",
   "execution_count": 18,
   "metadata": {},
   "outputs": [],
   "source": [
    "import os\n",
    "import numpy as np\n",
    "import h5py\n",
    "from tqdm import tqdm\n",
    "import keras\n",
    "from tqdm import tqdm\n",
    "from PIL import Image\n",
    "import pandas as pd\n",
    "from keras.models import load_model"
   ]
  },
  {
   "cell_type": "code",
   "execution_count": 2,
   "metadata": {},
   "outputs": [
    {
     "data": {
      "text/plain": [
       "\"\\ndirectory = '/share/jproject/fg538/r-005-gpu-5/Kaggle/final_train/compressed_images/'\\ntr = []\\nlabels = []\\nfor fp in tqdm(os.listdir(directory)):\\n    try:\\n        tr.append(np.array(Image.open(directory + fp)))\\n        labels.append(int(fp.split('_')[2][:-4]))\\n    except Exception as e:\\n        print(str(e))\\n\""
      ]
     },
     "execution_count": 2,
     "metadata": {},
     "output_type": "execute_result"
    }
   ],
   "source": [
    "'''\n",
    "directory = '/share/jproject/fg538/r-005-gpu-5/Kaggle/final_train/compressed_images/'\n",
    "tr = []\n",
    "labels = []\n",
    "for fp in tqdm(os.listdir(directory)):\n",
    "    try:\n",
    "        tr.append(np.array(Image.open(directory + fp)))\n",
    "        labels.append(int(fp.split('_')[2][:-4]))\n",
    "    except Exception as e:\n",
    "        print(str(e))\n",
    "'''"
   ]
  },
  {
   "cell_type": "code",
   "execution_count": 3,
   "metadata": {},
   "outputs": [
    {
     "data": {
      "text/plain": [
       "\"\\nwith h5py.File('/share/jproject/fg538/r-005-gpu-5/Kaggle/final_train/fully_compressed_tr.h5', 'w') as hf:\\n    hf.create_dataset('comp_tr1', data = tr[0:50000])\\n    hf.create_dataset('comp_tr2', data = tr[50000:100000])\\n    hf.create_dataset('comp_tr3', data = tr[100000:150000])\\n    hf.create_dataset('comp_tr4', data = tr[150000:])\\n\""
      ]
     },
     "execution_count": 3,
     "metadata": {},
     "output_type": "execute_result"
    }
   ],
   "source": [
    "'''\n",
    "with h5py.File('/share/jproject/fg538/r-005-gpu-5/Kaggle/final_train/fully_compressed_tr.h5', 'w') as hf:\n",
    "    hf.create_dataset('comp_tr1', data = tr[0:50000])\n",
    "    hf.create_dataset('comp_tr2', data = tr[50000:100000])\n",
    "    hf.create_dataset('comp_tr3', data = tr[100000:150000])\n",
    "    hf.create_dataset('comp_tr4', data = tr[150000:])\n",
    "'''"
   ]
  },
  {
   "cell_type": "code",
   "execution_count": 4,
   "metadata": {},
   "outputs": [
    {
     "data": {
      "text/plain": [
       "\"\\nwith h5py.File('/share/jproject/fg538/r-005-gpu-5/Kaggle/final_train/labels_tr.h5', 'w') as hf:\\n    hf.create_dataset('comp_labels', data = labels)\\n\""
      ]
     },
     "execution_count": 4,
     "metadata": {},
     "output_type": "execute_result"
    }
   ],
   "source": [
    "'''\n",
    "with h5py.File('/share/jproject/fg538/r-005-gpu-5/Kaggle/final_train/labels_tr.h5', 'w') as hf:\n",
    "    hf.create_dataset('comp_labels', data = labels)\n",
    "'''"
   ]
  },
  {
   "cell_type": "code",
   "execution_count": 5,
   "metadata": {},
   "outputs": [
    {
     "name": "stderr",
     "output_type": "stream",
     "text": [
      "100%|██████████| 4/4 [00:40<00:00, 10.12s/it]\n"
     ]
    }
   ],
   "source": [
    "tr = []\n",
    "with h5py.File('/share/jproject/fg538/r-005-gpu-5/Kaggle/final_train/fully_compressed_tr.h5', 'r') as hf:\n",
    "    for i in tqdm(range(1, 5)):\n",
    "        arr = hf['comp_tr{}'.format(i)][:]\n",
    "        for a in arr:\n",
    "            tr.append(a)"
   ]
  },
  {
   "cell_type": "code",
   "execution_count": 6,
   "metadata": {},
   "outputs": [],
   "source": [
    "train = np.array(tr)"
   ]
  },
  {
   "cell_type": "code",
   "execution_count": 7,
   "metadata": {},
   "outputs": [
    {
     "name": "stdout",
     "output_type": "stream",
     "text": [
      "length: 190983 \t shape: (190983, 299, 299, 3)\n"
     ]
    }
   ],
   "source": [
    "print('length:', len(train), '\\t', 'shape:', train.shape)"
   ]
  },
  {
   "cell_type": "code",
   "execution_count": 8,
   "metadata": {},
   "outputs": [],
   "source": [
    "with h5py.File('/share/jproject/fg538/r-005-gpu-5/Kaggle/final_train/labels_tr.h5', 'r') as hf:\n",
    "    labels = hf['comp_labels'][:]"
   ]
  },
  {
   "cell_type": "code",
   "execution_count": 9,
   "metadata": {},
   "outputs": [
    {
     "data": {
      "text/plain": [
       "190983"
      ]
     },
     "execution_count": 9,
     "metadata": {},
     "output_type": "execute_result"
    }
   ],
   "source": [
    "len(labels)"
   ]
  },
  {
   "cell_type": "code",
   "execution_count": 10,
   "metadata": {},
   "outputs": [],
   "source": [
    "#os.listdir('/share/jproject/fg538/r-005-gpu-5/Kaggle/final_train/compressed_images/')[150000]"
   ]
  },
  {
   "cell_type": "code",
   "execution_count": 11,
   "metadata": {},
   "outputs": [
    {
     "data": {
      "text/plain": [
       "\"\\nlabels = []\\nfor fp in os.listdir('/share/jproject/fg538/r-005-gpu-5/Kaggle/final_train/compressed_images/'):\\n    labels.append(int(fp.split('_')[2][:-4]))\\n\""
      ]
     },
     "execution_count": 11,
     "metadata": {},
     "output_type": "execute_result"
    }
   ],
   "source": [
    "'''\n",
    "labels = []\n",
    "for fp in os.listdir('/share/jproject/fg538/r-005-gpu-5/Kaggle/final_train/compressed_images/'):\n",
    "    labels.append(int(fp.split('_')[2][:-4]))\n",
    "'''"
   ]
  },
  {
   "cell_type": "code",
   "execution_count": 12,
   "metadata": {},
   "outputs": [],
   "source": [
    "labels = [(label - 1) for label in labels]\n",
    "labels = keras.utils.to_categorical(np.array(labels))"
   ]
  },
  {
   "cell_type": "code",
   "execution_count": 13,
   "metadata": {},
   "outputs": [
    {
     "data": {
      "text/plain": [
       "\"\\ndirectory = '/share/jproject/fg538/r-005-gpu-5/Kaggle/final_val/compressed_images/'\\ntr = []\\nval_labels = []\\nfor fp in tqdm(os.listdir(directory)):\\n    try:\\n        tr.append(np.array(Image.open(directory + fp)))\\n        val_labels.append(int(fp.split('_')[2][:-4]))\\n    except Exception as e:\\n        print(str(e))\\n\""
      ]
     },
     "execution_count": 13,
     "metadata": {},
     "output_type": "execute_result"
    }
   ],
   "source": [
    "'''\n",
    "directory = '/share/jproject/fg538/r-005-gpu-5/Kaggle/final_val/compressed_images/'\n",
    "tr = []\n",
    "val_labels = []\n",
    "for fp in tqdm(os.listdir(directory)):\n",
    "    try:\n",
    "        tr.append(np.array(Image.open(directory + fp)))\n",
    "        val_labels.append(int(fp.split('_')[2][:-4]))\n",
    "    except Exception as e:\n",
    "        print(str(e))\n",
    "'''"
   ]
  },
  {
   "cell_type": "code",
   "execution_count": 14,
   "metadata": {},
   "outputs": [
    {
     "data": {
      "text/plain": [
       "\"\\nwith h5py.File('/share/jproject/fg538/r-005-gpu-5/Kaggle/final_val/fully_compressed_val.h5', 'w') as hf:\\n    hf.create_dataset('comp_val', data = tr)\\n\""
      ]
     },
     "execution_count": 14,
     "metadata": {},
     "output_type": "execute_result"
    }
   ],
   "source": [
    "'''\n",
    "with h5py.File('/share/jproject/fg538/r-005-gpu-5/Kaggle/final_val/fully_compressed_val.h5', 'w') as hf:\n",
    "    hf.create_dataset('comp_val', data = tr)\n",
    "'''"
   ]
  },
  {
   "cell_type": "code",
   "execution_count": 15,
   "metadata": {},
   "outputs": [
    {
     "data": {
      "text/plain": [
       "\"\\nwith h5py.File('/share/jproject/fg538/r-005-gpu-5/Kaggle/final_val/labels_val.h5', 'w') as hf:\\n    hf.create_dataset('comp_val', data = val_labels)\\n\""
      ]
     },
     "execution_count": 15,
     "metadata": {},
     "output_type": "execute_result"
    }
   ],
   "source": [
    "'''\n",
    "with h5py.File('/share/jproject/fg538/r-005-gpu-5/Kaggle/final_val/labels_val.h5', 'w') as hf:\n",
    "    hf.create_dataset('comp_val', data = val_labels)\n",
    "'''"
   ]
  },
  {
   "cell_type": "code",
   "execution_count": 16,
   "metadata": {},
   "outputs": [],
   "source": [
    "with h5py.File('/share/jproject/fg538/r-005-gpu-5/Kaggle/final_val/fully_compressed_val.h5', 'r') as hf:\n",
    "    val = hf['comp_val'][:]"
   ]
  },
  {
   "cell_type": "code",
   "execution_count": 17,
   "metadata": {},
   "outputs": [
    {
     "data": {
      "text/plain": [
       "6310"
      ]
     },
     "execution_count": 17,
     "metadata": {},
     "output_type": "execute_result"
    }
   ],
   "source": [
    "len(val)"
   ]
  },
  {
   "cell_type": "code",
   "execution_count": 18,
   "metadata": {},
   "outputs": [],
   "source": [
    "val = np.array(val)"
   ]
  },
  {
   "cell_type": "code",
   "execution_count": 19,
   "metadata": {},
   "outputs": [],
   "source": [
    "with h5py.File('/share/jproject/fg538/r-005-gpu-5/Kaggle/final_val/labels_val.h5', 'r') as hf:\n",
    "    val_labels = hf['comp_val'][:]"
   ]
  },
  {
   "cell_type": "code",
   "execution_count": 20,
   "metadata": {},
   "outputs": [
    {
     "data": {
      "text/plain": [
       "6310"
      ]
     },
     "execution_count": 20,
     "metadata": {},
     "output_type": "execute_result"
    }
   ],
   "source": [
    "len(val_labels)"
   ]
  },
  {
   "cell_type": "code",
   "execution_count": null,
   "metadata": {},
   "outputs": [],
   "source": [
    "val_labels = [(label - 1) for label in val_labels]\n",
    "val_labels = keras.utils.to_categorical(np.array(val_labels))"
   ]
  },
  {
   "cell_type": "code",
   "execution_count": null,
   "metadata": {},
   "outputs": [
    {
     "name": "stdout",
     "output_type": "stream",
     "text": [
      "Train on 190983 samples, validate on 6310 samples\n",
      "Epoch 1/10\n",
      "190976/190983 [============================>.] - ETA: 0s - loss: 1.4995 - acc: 0.6118"
     ]
    }
   ],
   "source": [
    "from keras import applications\n",
    "from keras.preprocessing.image import ImageDataGenerator\n",
    "from keras import optimizers\n",
    "from keras.models import Sequential, Model \n",
    "from keras.layers import Dropout, Flatten, Dense, GlobalAveragePooling2D\n",
    "from keras import backend as k \n",
    "from keras.callbacks import ModelCheckpoint, LearningRateScheduler, TensorBoard, EarlyStopping\n",
    "\n",
    "img_width, img_height = 299, 299\n",
    "train_data_dir = \"/share/jproject/fg538/r-005-gpu-5/Kaggle/train_pickles\"\n",
    "validation_data_dir = \"/share/jproject/fg538/r-005-gpu-5/Kaggle/val_pickles\"\n",
    "nb_train_samples = 190983\n",
    "nb_validation_samples = 6310\n",
    "batch_size = 16\n",
    "epochs = 50\n",
    "\n",
    "model = applications.inception_v3.InceptionV3(weights = \"imagenet\", include_top=False, input_shape = (img_width, img_height, 3))\n",
    "\n",
    "#model.summary()\n",
    "\n",
    "# Freeze the layers which you don't want to train. Here I am freezing the first 5 layers.\n",
    "#for layer in model.layers[:5]:\n",
    "#    layer.trainable = False\n",
    "\n",
    "#Adding custom Layers \n",
    "x = model.output\n",
    "x = Flatten()(x)\n",
    "x = Dense(1024, activation=\"relu\")(x)\n",
    "x = Dropout(0.5)(x)\n",
    "x = Dense(1024, activation=\"relu\")(x)\n",
    "predictions = Dense(128, activation=\"softmax\")(x)\n",
    "\n",
    "# creating the final model \n",
    "model_final = Model(inputs = model.input, outputs = predictions)\n",
    "\n",
    "# compile the model \n",
    "model_final.compile(loss = \"categorical_crossentropy\", #optimizer = optimizers.Adam()\n",
    "                    optimizer = optimizers.SGD(lr=0.0001, momentum=0.9)\n",
    "                    , metrics=[\"accuracy\"])\n",
    "\n",
    "# Save the model according to the conditions  \n",
    "checkpoint = ModelCheckpoint(\"inception_v3_3.h5\", monitor='val_acc', verbose=1, save_best_only=True, \\\n",
    "                             save_weights_only=False, mode='auto', period=1)\n",
    "early = EarlyStopping(monitor='val_acc', min_delta=0, patience=2, verbose=1, mode='auto')\n",
    "\n",
    "tensorboard = keras.callbacks.TensorBoard(log_dir='./logs', histogram_freq=0, batch_size=16, write_graph=True, \\\n",
    "                            write_grads=False, write_images=True, embeddings_freq=0, embeddings_layer_names=None, \\\n",
    "                            embeddings_metadata=None)\n",
    "\n",
    "# Train the model \n",
    "history = model_final.fit(train, labels, batch_size=16, epochs=10, verbose=1, callbacks=[checkpoint, early, tensorboard], \\\n",
    "                shuffle=True, validation_data=[val, val_labels])"
   ]
  },
  {
   "cell_type": "code",
   "execution_count": 27,
   "metadata": {},
   "outputs": [
    {
     "data": {
      "text/plain": [
       "[0.6117926726471927,\n",
       " 0.7752522475828697,\n",
       " 0.8227643298094595,\n",
       " 0.8558510443344131,\n",
       " 0.8822198834451234,\n",
       " 0.902059345596517,\n",
       " 0.9196106459737254,\n",
       " 0.9341354989714247,\n",
       " 0.9454768225444149,\n",
       " 0.9561374572605938]"
      ]
     },
     "execution_count": 27,
     "metadata": {},
     "output_type": "execute_result"
    }
   ],
   "source": [
    "history.history['acc']"
   ]
  },
  {
   "cell_type": "code",
   "execution_count": 28,
   "metadata": {},
   "outputs": [
    {
     "data": {
      "text/plain": [
       "[0.7410459588144547,\n",
       " 0.7877971473662109,\n",
       " 0.8071315372424722,\n",
       " 0.8161648177307117,\n",
       " 0.822662440570523,\n",
       " 0.8239302694136291,\n",
       " 0.8275752773375594,\n",
       " 0.8309033280507132,\n",
       " 0.8277337559429477,\n",
       " 0.8277337559429477]"
      ]
     },
     "execution_count": 28,
     "metadata": {},
     "output_type": "execute_result"
    }
   ],
   "source": [
    "history.history['val_acc']"
   ]
  },
  {
   "cell_type": "code",
   "execution_count": null,
   "metadata": {},
   "outputs": [],
   "source": [
    "model_final.save('best_model.h5')"
   ]
  },
  {
   "cell_type": "code",
   "execution_count": 5,
   "metadata": {},
   "outputs": [],
   "source": [
    "model_final = load_model('best_model.h5')"
   ]
  },
  {
   "cell_type": "code",
   "execution_count": 4,
   "metadata": {},
   "outputs": [
    {
     "name": "stderr",
     "output_type": "stream",
     "text": [
      "\n",
      "  0%|          | 0/12617 [00:00<?, ?it/s]\u001b[A\n",
      "  0%|          | 34/12617 [00:00<00:37, 333.94it/s]\u001b[A\n",
      "  1%|          | 68/12617 [00:00<00:37, 335.14it/s]\u001b[A\n",
      "  1%|          | 101/12617 [00:00<00:37, 332.81it/s]\u001b[A\n",
      "  1%|          | 135/12617 [00:00<00:37, 331.99it/s]\u001b[A\n",
      "  1%|▏         | 170/12617 [00:00<00:37, 334.46it/s]\u001b[A\n",
      "  2%|▏         | 205/12617 [00:00<00:36, 336.17it/s]\u001b[A\n",
      "  2%|▏         | 239/12617 [00:00<00:36, 336.60it/s]\u001b[A\n",
      "  2%|▏         | 272/12617 [00:00<00:36, 335.54it/s]\u001b[A\n",
      "  2%|▏         | 304/12617 [00:00<00:36, 333.69it/s]\u001b[A\n",
      "  3%|▎         | 337/12617 [00:01<00:36, 332.94it/s]\u001b[A\n",
      "  3%|▎         | 370/12617 [00:01<00:36, 332.57it/s]\u001b[A\n",
      "  3%|▎         | 404/12617 [00:01<00:36, 333.09it/s]\u001b[A\n",
      "  3%|▎         | 439/12617 [00:01<00:36, 334.37it/s]\u001b[A\n",
      "  4%|▎         | 473/12617 [00:01<00:36, 334.19it/s]\u001b[A\n",
      "  4%|▍         | 507/12617 [00:01<00:36, 334.44it/s]\u001b[A\n",
      "  4%|▍         | 543/12617 [00:01<00:35, 335.99it/s]\u001b[A\n",
      "  5%|▍         | 578/12617 [00:01<00:35, 336.36it/s]\u001b[A\n",
      "  5%|▍         | 614/12617 [00:01<00:35, 337.24it/s]\u001b[A\n",
      "  5%|▌         | 649/12617 [00:01<00:35, 337.08it/s]\u001b[A\n",
      "  5%|▌         | 684/12617 [00:02<00:35, 336.78it/s]\u001b[A\n",
      "  6%|▌         | 718/12617 [00:02<00:35, 336.49it/s]\u001b[A\n",
      "  6%|▌         | 753/12617 [00:02<00:35, 337.03it/s]\u001b[A\n",
      "  6%|▌         | 787/12617 [00:02<00:35, 337.07it/s]\u001b[A\n",
      "  7%|▋         | 821/12617 [00:02<00:34, 337.16it/s]\u001b[A\n",
      "  7%|▋         | 855/12617 [00:02<00:34, 337.22it/s]\u001b[A\n",
      "  7%|▋         | 891/12617 [00:02<00:34, 337.75it/s]\u001b[A\n",
      "100%|██████████| 12617/12617 [00:39<00:00, 322.63it/s]\n"
     ]
    }
   ],
   "source": [
    "directory = '/share/jproject/fg538/r-005-gpu-5/Kaggle/final_test/compressed_images/'\n",
    "tr = []\n",
    "ids = []\n",
    "for fp in tqdm(os.listdir(directory)):\n",
    "    try:\n",
    "        if fp.endswith('.jpg'):\n",
    "            tr.append(np.array(Image.open(directory + fp)))\n",
    "            ids.append(int(fp.split('_')[1][:-4]))\n",
    "    except Exception as e:\n",
    "        print(str(e))"
   ]
  },
  {
   "cell_type": "code",
   "execution_count": 6,
   "metadata": {},
   "outputs": [
    {
     "data": {
      "text/plain": [
       "12584"
      ]
     },
     "execution_count": 6,
     "metadata": {},
     "output_type": "execute_result"
    }
   ],
   "source": [
    "len(ids)"
   ]
  },
  {
   "cell_type": "code",
   "execution_count": 7,
   "metadata": {},
   "outputs": [],
   "source": [
    "test = np.array(tr)"
   ]
  },
  {
   "cell_type": "code",
   "execution_count": 9,
   "metadata": {},
   "outputs": [],
   "source": [
    "predictions = model_final.predict(test)"
   ]
  },
  {
   "cell_type": "code",
   "execution_count": 11,
   "metadata": {},
   "outputs": [],
   "source": [
    "predictions = np.argmax(predictions, axis=1) + 1"
   ]
  },
  {
   "cell_type": "code",
   "execution_count": 15,
   "metadata": {},
   "outputs": [],
   "source": [
    "target = {}\n",
    "for id, pred in list(zip(ids, predictions.tolist())):\n",
    "    target[id] = pred"
   ]
  },
  {
   "cell_type": "code",
   "execution_count": 16,
   "metadata": {},
   "outputs": [],
   "source": [
    "for i in range(1, 12800):\n",
    "    if i not in target:\n",
    "        target[i] = None"
   ]
  },
  {
   "cell_type": "code",
   "execution_count": 28,
   "metadata": {},
   "outputs": [],
   "source": [
    "keys, values = [], []\n",
    "for k,v in target.items():\n",
    "    keys.append(k)\n",
    "    values.append(v)"
   ]
  },
  {
   "cell_type": "code",
   "execution_count": 31,
   "metadata": {},
   "outputs": [],
   "source": [
    "df = pd.DataFrame({'id':keys, 'predicted':values}, dtype=int)"
   ]
  },
  {
   "cell_type": "code",
   "execution_count": 33,
   "metadata": {},
   "outputs": [],
   "source": [
    "df.sort_values(by='id', inplace=True)"
   ]
  },
  {
   "cell_type": "code",
   "execution_count": 34,
   "metadata": {},
   "outputs": [
    {
     "data": {
      "text/html": [
       "<div>\n",
       "<style scoped>\n",
       "    .dataframe tbody tr th:only-of-type {\n",
       "        vertical-align: middle;\n",
       "    }\n",
       "\n",
       "    .dataframe tbody tr th {\n",
       "        vertical-align: top;\n",
       "    }\n",
       "\n",
       "    .dataframe thead th {\n",
       "        text-align: right;\n",
       "    }\n",
       "</style>\n",
       "<table border=\"1\" class=\"dataframe\">\n",
       "  <thead>\n",
       "    <tr style=\"text-align: right;\">\n",
       "      <th></th>\n",
       "      <th>id</th>\n",
       "      <th>predicted</th>\n",
       "    </tr>\n",
       "  </thead>\n",
       "  <tbody>\n",
       "    <tr>\n",
       "      <th>968</th>\n",
       "      <td>1</td>\n",
       "      <td>12</td>\n",
       "    </tr>\n",
       "    <tr>\n",
       "      <th>1965</th>\n",
       "      <td>2</td>\n",
       "      <td>61</td>\n",
       "    </tr>\n",
       "    <tr>\n",
       "      <th>3270</th>\n",
       "      <td>3</td>\n",
       "      <td>91</td>\n",
       "    </tr>\n",
       "    <tr>\n",
       "      <th>2776</th>\n",
       "      <td>4</td>\n",
       "      <td>54</td>\n",
       "    </tr>\n",
       "    <tr>\n",
       "      <th>2876</th>\n",
       "      <td>5</td>\n",
       "      <td>126</td>\n",
       "    </tr>\n",
       "  </tbody>\n",
       "</table>\n",
       "</div>"
      ],
      "text/plain": [
       "      id predicted\n",
       "968    1        12\n",
       "1965   2        61\n",
       "3270   3        91\n",
       "2776   4        54\n",
       "2876   5       126"
      ]
     },
     "execution_count": 34,
     "metadata": {},
     "output_type": "execute_result"
    }
   ],
   "source": [
    "df.head(5)"
   ]
  },
  {
   "cell_type": "code",
   "execution_count": 36,
   "metadata": {},
   "outputs": [],
   "source": [
    "df.to_csv('submission.csv', index=False)"
   ]
  },
  {
   "cell_type": "code",
   "execution_count": 44,
   "metadata": {},
   "outputs": [
    {
     "data": {
      "text/plain": [
       "id           216\n",
       "predicted      0\n",
       "dtype: int64"
      ]
     },
     "execution_count": 44,
     "metadata": {},
     "output_type": "execute_result"
    }
   ],
   "source": [
    "df.loc[~df.predicted.isin (range(1, 129)) ].count()"
   ]
  }
 ],
 "metadata": {
  "kernelspec": {
   "display_name": "Python 3",
   "language": "python",
   "name": "python3"
  },
  "language_info": {
   "codemirror_mode": {
    "name": "ipython",
    "version": 3
   },
   "file_extension": ".py",
   "mimetype": "text/x-python",
   "name": "python",
   "nbconvert_exporter": "python",
   "pygments_lexer": "ipython3",
   "version": "3.6.4"
  }
 },
 "nbformat": 4,
 "nbformat_minor": 2
}
